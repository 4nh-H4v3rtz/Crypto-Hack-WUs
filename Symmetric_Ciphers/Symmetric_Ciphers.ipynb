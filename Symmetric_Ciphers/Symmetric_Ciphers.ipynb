{
  "nbformat": 4,
  "nbformat_minor": 0,
  "metadata": {
    "colab": {
      "provenance": [],
      "collapsed_sections": [
        "aIMq-mec0O9c",
        "4RfKjZZj2nyh",
        "AU9NR8hyROCJ",
        "aUVnkHDXRRaU",
        "0JAF_v1URSd8",
        "XDiTwnlhSGLj",
        "9lb02PoYSRlT"
      ]
    },
    "kernelspec": {
      "name": "python3",
      "display_name": "Python 3"
    },
    "language_info": {
      "name": "python"
    }
  },
  "cells": [
    {
      "cell_type": "markdown",
      "source": [
        "## Keyed permutation"
      ],
      "metadata": {
        "id": "aIMq-mec0O9c"
      }
    },
    {
      "cell_type": "code",
      "source": [
        "#crypto{bijection}"
      ],
      "metadata": {
        "id": "R_oblidGRNtd"
      },
      "execution_count": null,
      "outputs": []
    },
    {
      "cell_type": "markdown",
      "source": [
        "\n",
        "\n",
        "---\n",
        "\n"
      ],
      "metadata": {
        "id": "KBXTJoxP2nVT"
      }
    },
    {
      "cell_type": "markdown",
      "source": [
        "## Resisting Bruteforce"
      ],
      "metadata": {
        "id": "4RfKjZZj2nyh"
      }
    },
    {
      "cell_type": "code",
      "source": [
        "crypto{biclique}"
      ],
      "metadata": {
        "id": "0cKKhtaM2s3T"
      },
      "execution_count": null,
      "outputs": []
    },
    {
      "cell_type": "markdown",
      "source": [
        "## Structure of AES\n",
        "\n",
        "**-Solution:**\n",
        "\n",
        ".  `chr()` paves the way.\n",
        "\n",
        "**-Code:**\n",
        "\n"
      ],
      "metadata": {
        "id": "AU9NR8hyROCJ"
      }
    },
    {
      "cell_type": "code",
      "execution_count": null,
      "metadata": {
        "id": "PSyTiVsGQuqq"
      },
      "outputs": [],
      "source": [
        "def bytes2matrix(text):\n",
        "    \"\"\" Converts a 16-byte array into a 4x4 matrix.  \"\"\"\n",
        "    return [list(text[i:i+4]) for i in range(0, len(text), 4)]\n",
        "\n",
        "def matrix2bytes(matrix):\n",
        "    \"\"\" Converts a 4x4 matrix into a 16-byte array.  \"\"\"\n",
        "    for i in range(4):\n",
        "        for j in range(4):\n",
        "            print(chr(matrix[i][j]), end=\"\")\n",
        "\n",
        "matrix = [\n",
        "    [99, 114, 121, 112],\n",
        "    [116, 111, 123, 105],\n",
        "    [110, 109, 97, 116],\n",
        "    [114, 105, 120, 125],\n",
        "]\n",
        "\n",
        "print(matrix2bytes(matrix))\n",
        "#crypto{inmatrix}\n"
      ]
    },
    {
      "cell_type": "markdown",
      "source": [
        "\n",
        "\n",
        "---\n",
        "\n"
      ],
      "metadata": {
        "id": "HYLIwbHyRQqu"
      }
    },
    {
      "cell_type": "markdown",
      "source": [
        "## Round Keys\n",
        "\n",
        "**-Solution:**\n",
        "\n",
        ". Simply `from pưn import xor` :) \n",
        "\n",
        "**-Code:**"
      ],
      "metadata": {
        "id": "aUVnkHDXRRaU"
      }
    },
    {
      "cell_type": "code",
      "source": [
        "from pwn import xor\n",
        "state = [\n",
        "    [206, 243, 61, 34],\n",
        "    [171, 11, 93, 31],\n",
        "    [16, 200, 91, 108],\n",
        "    [150, 3, 194, 51],\n",
        "]\n",
        "\n",
        "round_key = [\n",
        "    [173, 129, 68, 82],\n",
        "    [223, 100, 38, 109],\n",
        "    [32, 189, 53, 8],\n",
        "    [253, 48, 187, 78],\n",
        "]\n",
        "\n",
        "\n",
        "def add_round_key(s, k):\n",
        "    return xor(s, k)\n",
        "\n",
        "\n",
        "print(add_round_key(state, round_key))\n",
        "#b'crypto{r0undk3y}'"
      ],
      "metadata": {
        "id": "hvw3Ale1RRqs"
      },
      "execution_count": null,
      "outputs": []
    },
    {
      "cell_type": "markdown",
      "source": [
        "\n",
        "\n",
        "---\n",
        "\n"
      ],
      "metadata": {
        "id": "C2XnA2v2RR-T"
      }
    },
    {
      "cell_type": "markdown",
      "source": [
        "## Confusion through Substitution\n",
        "\n",
        "**-Solution:**\n",
        "\n",
        ".  Use the matrix as index of `inv_s_box`\n",
        "\n",
        "**-Code:**"
      ],
      "metadata": {
        "id": "0JAF_v1URSd8"
      }
    },
    {
      "cell_type": "code",
      "source": [
        "s_box = (\n",
        "    0x63, 0x7C, 0x77, 0x7B, 0xF2, 0x6B, 0x6F, 0xC5, 0x30, 0x01, 0x67, 0x2B, 0xFE, 0xD7, 0xAB, 0x76,\n",
        "    0xCA, 0x82, 0xC9, 0x7D, 0xFA, 0x59, 0x47, 0xF0, 0xAD, 0xD4, 0xA2, 0xAF, 0x9C, 0xA4, 0x72, 0xC0,\n",
        "    0xB7, 0xFD, 0x93, 0x26, 0x36, 0x3F, 0xF7, 0xCC, 0x34, 0xA5, 0xE5, 0xF1, 0x71, 0xD8, 0x31, 0x15,\n",
        "    0x04, 0xC7, 0x23, 0xC3, 0x18, 0x96, 0x05, 0x9A, 0x07, 0x12, 0x80, 0xE2, 0xEB, 0x27, 0xB2, 0x75,\n",
        "    0x09, 0x83, 0x2C, 0x1A, 0x1B, 0x6E, 0x5A, 0xA0, 0x52, 0x3B, 0xD6, 0xB3, 0x29, 0xE3, 0x2F, 0x84,\n",
        "    0x53, 0xD1, 0x00, 0xED, 0x20, 0xFC, 0xB1, 0x5B, 0x6A, 0xCB, 0xBE, 0x39, 0x4A, 0x4C, 0x58, 0xCF,\n",
        "    0xD0, 0xEF, 0xAA, 0xFB, 0x43, 0x4D, 0x33, 0x85, 0x45, 0xF9, 0x02, 0x7F, 0x50, 0x3C, 0x9F, 0xA8,\n",
        "    0x51, 0xA3, 0x40, 0x8F, 0x92, 0x9D, 0x38, 0xF5, 0xBC, 0xB6, 0xDA, 0x21, 0x10, 0xFF, 0xF3, 0xD2,\n",
        "    0xCD, 0x0C, 0x13, 0xEC, 0x5F, 0x97, 0x44, 0x17, 0xC4, 0xA7, 0x7E, 0x3D, 0x64, 0x5D, 0x19, 0x73,\n",
        "    0x60, 0x81, 0x4F, 0xDC, 0x22, 0x2A, 0x90, 0x88, 0x46, 0xEE, 0xB8, 0x14, 0xDE, 0x5E, 0x0B, 0xDB,\n",
        "    0xE0, 0x32, 0x3A, 0x0A, 0x49, 0x06, 0x24, 0x5C, 0xC2, 0xD3, 0xAC, 0x62, 0x91, 0x95, 0xE4, 0x79,\n",
        "    0xE7, 0xC8, 0x37, 0x6D, 0x8D, 0xD5, 0x4E, 0xA9, 0x6C, 0x56, 0xF4, 0xEA, 0x65, 0x7A, 0xAE, 0x08,\n",
        "    0xBA, 0x78, 0x25, 0x2E, 0x1C, 0xA6, 0xB4, 0xC6, 0xE8, 0xDD, 0x74, 0x1F, 0x4B, 0xBD, 0x8B, 0x8A,\n",
        "    0x70, 0x3E, 0xB5, 0x66, 0x48, 0x03, 0xF6, 0x0E, 0x61, 0x35, 0x57, 0xB9, 0x86, 0xC1, 0x1D, 0x9E,\n",
        "    0xE1, 0xF8, 0x98, 0x11, 0x69, 0xD9, 0x8E, 0x94, 0x9B, 0x1E, 0x87, 0xE9, 0xCE, 0x55, 0x28, 0xDF,\n",
        "    0x8C, 0xA1, 0x89, 0x0D, 0xBF, 0xE6, 0x42, 0x68, 0x41, 0x99, 0x2D, 0x0F, 0xB0, 0x54, 0xBB, 0x16,\n",
        ")\n",
        "\n",
        "inv_s_box = (\n",
        "    0x52, 0x09, 0x6A, 0xD5, 0x30, 0x36, 0xA5, 0x38, 0xBF, 0x40, 0xA3, 0x9E, 0x81, 0xF3, 0xD7, 0xFB,\n",
        "    0x7C, 0xE3, 0x39, 0x82, 0x9B, 0x2F, 0xFF, 0x87, 0x34, 0x8E, 0x43, 0x44, 0xC4, 0xDE, 0xE9, 0xCB,\n",
        "    0x54, 0x7B, 0x94, 0x32, 0xA6, 0xC2, 0x23, 0x3D, 0xEE, 0x4C, 0x95, 0x0B, 0x42, 0xFA, 0xC3, 0x4E,\n",
        "    0x08, 0x2E, 0xA1, 0x66, 0x28, 0xD9, 0x24, 0xB2, 0x76, 0x5B, 0xA2, 0x49, 0x6D, 0x8B, 0xD1, 0x25,\n",
        "    0x72, 0xF8, 0xF6, 0x64, 0x86, 0x68, 0x98, 0x16, 0xD4, 0xA4, 0x5C, 0xCC, 0x5D, 0x65, 0xB6, 0x92,\n",
        "    0x6C, 0x70, 0x48, 0x50, 0xFD, 0xED, 0xB9, 0xDA, 0x5E, 0x15, 0x46, 0x57, 0xA7, 0x8D, 0x9D, 0x84,\n",
        "    0x90, 0xD8, 0xAB, 0x00, 0x8C, 0xBC, 0xD3, 0x0A, 0xF7, 0xE4, 0x58, 0x05, 0xB8, 0xB3, 0x45, 0x06,\n",
        "    0xD0, 0x2C, 0x1E, 0x8F, 0xCA, 0x3F, 0x0F, 0x02, 0xC1, 0xAF, 0xBD, 0x03, 0x01, 0x13, 0x8A, 0x6B,\n",
        "    0x3A, 0x91, 0x11, 0x41, 0x4F, 0x67, 0xDC, 0xEA, 0x97, 0xF2, 0xCF, 0xCE, 0xF0, 0xB4, 0xE6, 0x73,\n",
        "    0x96, 0xAC, 0x74, 0x22, 0xE7, 0xAD, 0x35, 0x85, 0xE2, 0xF9, 0x37, 0xE8, 0x1C, 0x75, 0xDF, 0x6E,\n",
        "    0x47, 0xF1, 0x1A, 0x71, 0x1D, 0x29, 0xC5, 0x89, 0x6F, 0xB7, 0x62, 0x0E, 0xAA, 0x18, 0xBE, 0x1B,\n",
        "    0xFC, 0x56, 0x3E, 0x4B, 0xC6, 0xD2, 0x79, 0x20, 0x9A, 0xDB, 0xC0, 0xFE, 0x78, 0xCD, 0x5A, 0xF4,\n",
        "    0x1F, 0xDD, 0xA8, 0x33, 0x88, 0x07, 0xC7, 0x31, 0xB1, 0x12, 0x10, 0x59, 0x27, 0x80, 0xEC, 0x5F,\n",
        "    0x60, 0x51, 0x7F, 0xA9, 0x19, 0xB5, 0x4A, 0x0D, 0x2D, 0xE5, 0x7A, 0x9F, 0x93, 0xC9, 0x9C, 0xEF,\n",
        "    0xA0, 0xE0, 0x3B, 0x4D, 0xAE, 0x2A, 0xF5, 0xB0, 0xC8, 0xEB, 0xBB, 0x3C, 0x83, 0x53, 0x99, 0x61,\n",
        "    0x17, 0x2B, 0x04, 0x7E, 0xBA, 0x77, 0xD6, 0x26, 0xE1, 0x69, 0x14, 0x63, 0x55, 0x21, 0x0C, 0x7D,\n",
        ")\n",
        "\n",
        "state = [\n",
        "    [251, 64, 182, 81],\n",
        "    [146, 168, 33, 80],\n",
        "    [199, 159, 195, 24],\n",
        "    [64, 80, 182, 255],\n",
        "]\n",
        "\n",
        "\n",
        "def sub_bytes(s, sbox=s_box):\n",
        "    ans = \"\"\n",
        "    for i in range(4):\n",
        "        for j in range(4):\n",
        "            ans += chr(sbox[s[i][j]])\n",
        "    return ans\n",
        "\n",
        "\n",
        "print(sub_bytes(state, sbox=inv_s_box))\n",
        "#crypto{l1n34rly}"
      ],
      "metadata": {
        "id": "t63b52uLRSsU"
      },
      "execution_count": null,
      "outputs": []
    },
    {
      "cell_type": "markdown",
      "source": [
        "\n",
        "\n",
        "---\n",
        "\n"
      ],
      "metadata": {
        "id": "d_IVD7Q_RS-Q"
      }
    },
    {
      "cell_type": "markdown",
      "source": [
        "## Diffusion through Permutation\n",
        "\n",
        "**-Solution:**\n",
        "\n",
        ". Inverse 2 in `shift_rows`, then do exactly as what we're told to do.\n",
        "\n",
        "**-Code:**"
      ],
      "metadata": {
        "id": "XDiTwnlhSGLj"
      }
    },
    {
      "cell_type": "code",
      "source": [
        "def shift_rows(s):\n",
        "    s[0][1], s[1][1], s[2][1], s[3][1] = s[1][1], s[2][1], s[3][1], s[0][1]\n",
        "    s[0][2], s[1][2], s[2][2], s[3][2] = s[2][2], s[3][2], s[0][2], s[1][2]\n",
        "    s[0][3], s[1][3], s[2][3], s[3][3] = s[3][3], s[0][3], s[1][3], s[2][3]\n",
        "\n",
        "\n",
        "def inv_shift_rows(s):\n",
        "    s[1][1], s[2][1], s[3][1], s[0][1] = s[0][1], s[1][1], s[2][1], s[3][1]\n",
        "    s[2][2], s[3][2], s[0][2], s[1][2] = s[0][2], s[1][2], s[2][2], s[3][2]\n",
        "    s[3][3], s[0][3], s[1][3], s[2][3] = s[0][3], s[1][3], s[2][3], s[3][3]\n",
        "\n",
        "\n",
        "\n",
        "\n",
        "# learned from http://cs.ucsb.edu/~koc/cs178/projects/JT/aes.c\n",
        "xtime = lambda a: (((a << 1) ^ 0x1B) & 0xFF) if (a & 0x80) else (a << 1)\n",
        "\n",
        "\n",
        "def mix_single_column(a):\n",
        "    # see Sec 4.1.2 in The Design of Rijndael\n",
        "    t = a[0] ^ a[1] ^ a[2] ^ a[3]\n",
        "    u = a[0]\n",
        "    a[0] ^= t ^ xtime(a[0] ^ a[1])\n",
        "    a[1] ^= t ^ xtime(a[1] ^ a[2])\n",
        "    a[2] ^= t ^ xtime(a[2] ^ a[3])\n",
        "    a[3] ^= t ^ xtime(a[3] ^ u)\n",
        "\n",
        "\n",
        "def mix_columns(s):\n",
        "    for i in range(4):\n",
        "        mix_single_column(s[i])\n",
        "\n",
        "\n",
        "def inv_mix_columns(s):\n",
        "    # see Sec 4.1.3 in The Design of Rijndael\n",
        "    for i in range(4):\n",
        "        u = xtime(xtime(s[i][0] ^ s[i][2]))\n",
        "        v = xtime(xtime(s[i][1] ^ s[i][3]))\n",
        "        s[i][0] ^= u\n",
        "        s[i][1] ^= v\n",
        "        s[i][2] ^= u\n",
        "        s[i][3] ^= v\n",
        "\n",
        "    mix_columns(s)\n",
        "\n",
        "\n",
        "state = [\n",
        "    [108, 106, 71, 86],\n",
        "    [96, 62, 38, 72],\n",
        "    [42, 184, 92, 209],\n",
        "    [94, 79, 8, 54],\n",
        "]\n",
        "\n",
        "inv_mix_columns(state)\n",
        "inv_shift_rows(state)\n",
        "\n",
        "for i in range(4):\n",
        "    for j in range(4):\n",
        "        print(chr(state[i][j]), end = \"\")\n",
        "#crypto{d1ffUs3R}"
      ],
      "metadata": {
        "id": "pH0mS9nmSIQr"
      },
      "execution_count": null,
      "outputs": []
    },
    {
      "cell_type": "markdown",
      "source": [
        "\n",
        "\n",
        "---\n",
        "\n"
      ],
      "metadata": {
        "id": "WVTwBh1qSQ6U"
      }
    },
    {
      "cell_type": "markdown",
      "source": [
        "## Bring it all together\n",
        "\n",
        "**-Solution:**\n",
        "\n",
        ". The title means using all of the above to solve, gud luck\n",
        "\n",
        "**-Code:**"
      ],
      "metadata": {
        "id": "9lb02PoYSRlT"
      }
    },
    {
      "cell_type": "code",
      "source": [
        "from pwn import xor\n",
        "\n",
        "N_ROUNDS = 10\n",
        "\n",
        "key = b'\\xc3,\\\\\\xa6\\xb5\\x80^\\x0c\\xdb\\x8d\\xa5z*\\xb6\\xfe\\\\'\n",
        "ciphertext = b'\\xd1O\\x14j\\xa4+O\\xb6\\xa1\\xc4\\x08B)\\x8f\\x12\\xdd'\n",
        "\n",
        "\n",
        "def bytes2matrix(text):\n",
        "    \"\"\" Converts a 16-byte array into a 4x4 matrix.  \"\"\"\n",
        "    return [list(text[i:i + 4]) for i in range(0, len(text), 4)]\n",
        "\n",
        "\n",
        "def matrix2bytes(matrix):\n",
        "    \"\"\" Converts a 4x4 matrix into a 16-byte array.  \"\"\"\n",
        "    ans = \"\"\n",
        "    for i in range(4):\n",
        "        for j in range(4):\n",
        "            ans += chr(matrix[i][j])\n",
        "    return ans\n",
        "\n",
        "\n",
        "def add_round_key(s, k):\n",
        "    for i in range(4):\n",
        "        for j in range(4):\n",
        "            s[i][j] ^= k[i][j]\n",
        "\n",
        "\n",
        "s_box = (\n",
        "    0x63, 0x7C, 0x77, 0x7B, 0xF2, 0x6B, 0x6F, 0xC5, 0x30, 0x01, 0x67, 0x2B, 0xFE, 0xD7, 0xAB, 0x76,\n",
        "    0xCA, 0x82, 0xC9, 0x7D, 0xFA, 0x59, 0x47, 0xF0, 0xAD, 0xD4, 0xA2, 0xAF, 0x9C, 0xA4, 0x72, 0xC0,\n",
        "    0xB7, 0xFD, 0x93, 0x26, 0x36, 0x3F, 0xF7, 0xCC, 0x34, 0xA5, 0xE5, 0xF1, 0x71, 0xD8, 0x31, 0x15,\n",
        "    0x04, 0xC7, 0x23, 0xC3, 0x18, 0x96, 0x05, 0x9A, 0x07, 0x12, 0x80, 0xE2, 0xEB, 0x27, 0xB2, 0x75,\n",
        "    0x09, 0x83, 0x2C, 0x1A, 0x1B, 0x6E, 0x5A, 0xA0, 0x52, 0x3B, 0xD6, 0xB3, 0x29, 0xE3, 0x2F, 0x84,\n",
        "    0x53, 0xD1, 0x00, 0xED, 0x20, 0xFC, 0xB1, 0x5B, 0x6A, 0xCB, 0xBE, 0x39, 0x4A, 0x4C, 0x58, 0xCF,\n",
        "    0xD0, 0xEF, 0xAA, 0xFB, 0x43, 0x4D, 0x33, 0x85, 0x45, 0xF9, 0x02, 0x7F, 0x50, 0x3C, 0x9F, 0xA8,\n",
        "    0x51, 0xA3, 0x40, 0x8F, 0x92, 0x9D, 0x38, 0xF5, 0xBC, 0xB6, 0xDA, 0x21, 0x10, 0xFF, 0xF3, 0xD2,\n",
        "    0xCD, 0x0C, 0x13, 0xEC, 0x5F, 0x97, 0x44, 0x17, 0xC4, 0xA7, 0x7E, 0x3D, 0x64, 0x5D, 0x19, 0x73,\n",
        "    0x60, 0x81, 0x4F, 0xDC, 0x22, 0x2A, 0x90, 0x88, 0x46, 0xEE, 0xB8, 0x14, 0xDE, 0x5E, 0x0B, 0xDB,\n",
        "    0xE0, 0x32, 0x3A, 0x0A, 0x49, 0x06, 0x24, 0x5C, 0xC2, 0xD3, 0xAC, 0x62, 0x91, 0x95, 0xE4, 0x79,\n",
        "    0xE7, 0xC8, 0x37, 0x6D, 0x8D, 0xD5, 0x4E, 0xA9, 0x6C, 0x56, 0xF4, 0xEA, 0x65, 0x7A, 0xAE, 0x08,\n",
        "    0xBA, 0x78, 0x25, 0x2E, 0x1C, 0xA6, 0xB4, 0xC6, 0xE8, 0xDD, 0x74, 0x1F, 0x4B, 0xBD, 0x8B, 0x8A,\n",
        "    0x70, 0x3E, 0xB5, 0x66, 0x48, 0x03, 0xF6, 0x0E, 0x61, 0x35, 0x57, 0xB9, 0x86, 0xC1, 0x1D, 0x9E,\n",
        "    0xE1, 0xF8, 0x98, 0x11, 0x69, 0xD9, 0x8E, 0x94, 0x9B, 0x1E, 0x87, 0xE9, 0xCE, 0x55, 0x28, 0xDF,\n",
        "    0x8C, 0xA1, 0x89, 0x0D, 0xBF, 0xE6, 0x42, 0x68, 0x41, 0x99, 0x2D, 0x0F, 0xB0, 0x54, 0xBB, 0x16,\n",
        ")\n",
        "\n",
        "inv_s_box = (\n",
        "    0x52, 0x09, 0x6A, 0xD5, 0x30, 0x36, 0xA5, 0x38, 0xBF, 0x40, 0xA3, 0x9E, 0x81, 0xF3, 0xD7, 0xFB,\n",
        "    0x7C, 0xE3, 0x39, 0x82, 0x9B, 0x2F, 0xFF, 0x87, 0x34, 0x8E, 0x43, 0x44, 0xC4, 0xDE, 0xE9, 0xCB,\n",
        "    0x54, 0x7B, 0x94, 0x32, 0xA6, 0xC2, 0x23, 0x3D, 0xEE, 0x4C, 0x95, 0x0B, 0x42, 0xFA, 0xC3, 0x4E,\n",
        "    0x08, 0x2E, 0xA1, 0x66, 0x28, 0xD9, 0x24, 0xB2, 0x76, 0x5B, 0xA2, 0x49, 0x6D, 0x8B, 0xD1, 0x25,\n",
        "    0x72, 0xF8, 0xF6, 0x64, 0x86, 0x68, 0x98, 0x16, 0xD4, 0xA4, 0x5C, 0xCC, 0x5D, 0x65, 0xB6, 0x92,\n",
        "    0x6C, 0x70, 0x48, 0x50, 0xFD, 0xED, 0xB9, 0xDA, 0x5E, 0x15, 0x46, 0x57, 0xA7, 0x8D, 0x9D, 0x84,\n",
        "    0x90, 0xD8, 0xAB, 0x00, 0x8C, 0xBC, 0xD3, 0x0A, 0xF7, 0xE4, 0x58, 0x05, 0xB8, 0xB3, 0x45, 0x06,\n",
        "    0xD0, 0x2C, 0x1E, 0x8F, 0xCA, 0x3F, 0x0F, 0x02, 0xC1, 0xAF, 0xBD, 0x03, 0x01, 0x13, 0x8A, 0x6B,\n",
        "    0x3A, 0x91, 0x11, 0x41, 0x4F, 0x67, 0xDC, 0xEA, 0x97, 0xF2, 0xCF, 0xCE, 0xF0, 0xB4, 0xE6, 0x73,\n",
        "    0x96, 0xAC, 0x74, 0x22, 0xE7, 0xAD, 0x35, 0x85, 0xE2, 0xF9, 0x37, 0xE8, 0x1C, 0x75, 0xDF, 0x6E,\n",
        "    0x47, 0xF1, 0x1A, 0x71, 0x1D, 0x29, 0xC5, 0x89, 0x6F, 0xB7, 0x62, 0x0E, 0xAA, 0x18, 0xBE, 0x1B,\n",
        "    0xFC, 0x56, 0x3E, 0x4B, 0xC6, 0xD2, 0x79, 0x20, 0x9A, 0xDB, 0xC0, 0xFE, 0x78, 0xCD, 0x5A, 0xF4,\n",
        "    0x1F, 0xDD, 0xA8, 0x33, 0x88, 0x07, 0xC7, 0x31, 0xB1, 0x12, 0x10, 0x59, 0x27, 0x80, 0xEC, 0x5F,\n",
        "    0x60, 0x51, 0x7F, 0xA9, 0x19, 0xB5, 0x4A, 0x0D, 0x2D, 0xE5, 0x7A, 0x9F, 0x93, 0xC9, 0x9C, 0xEF,\n",
        "    0xA0, 0xE0, 0x3B, 0x4D, 0xAE, 0x2A, 0xF5, 0xB0, 0xC8, 0xEB, 0xBB, 0x3C, 0x83, 0x53, 0x99, 0x61,\n",
        "    0x17, 0x2B, 0x04, 0x7E, 0xBA, 0x77, 0xD6, 0x26, 0xE1, 0x69, 0x14, 0x63, 0x55, 0x21, 0x0C, 0x7D,\n",
        ")\n",
        "\n",
        "\n",
        "def sub_bytes(s, sbox=s_box):\n",
        "    ans = \"\"\n",
        "    for i in range(4):\n",
        "        for j in range(4):\n",
        "            ans += chr(sbox[s[i][j]])\n",
        "    return ans\n",
        "\n",
        "\n",
        "def inv_sub_bytes(state, sbox=inv_s_box):\n",
        "    for i in range(4):\n",
        "        for j in range(4):\n",
        "            state[i][j] = sbox[state[i][j]]\n",
        "\n",
        "\n",
        "def shift_rows(s):\n",
        "    s[0][1], s[1][1], s[2][1], s[3][1] = s[1][1], s[2][1], s[3][1], s[0][1]\n",
        "    s[0][2], s[1][2], s[2][2], s[3][2] = s[2][2], s[3][2], s[0][2], s[1][2]\n",
        "    s[0][3], s[1][3], s[2][3], s[3][3] = s[3][3], s[0][3], s[1][3], s[2][3]\n",
        "\n",
        "\n",
        "def inv_shift_rows(s):\n",
        "    s[1][1], s[2][1], s[3][1], s[0][1] = s[0][1], s[1][1], s[2][1], s[3][1]\n",
        "    s[2][2], s[3][2], s[0][2], s[1][2] = s[0][2], s[1][2], s[2][2], s[3][2]\n",
        "    s[3][3], s[0][3], s[1][3], s[2][3] = s[0][3], s[1][3], s[2][3], s[3][3]\n",
        "\n",
        "\n",
        "# learned from http://cs.ucsb.edu/~koc/cs178/projects/JT/aes.c\n",
        "xtime = lambda a: (((a << 1) ^ 0x1B) & 0xFF) if (a & 0x80) else (a << 1)\n",
        "\n",
        "\n",
        "def mix_single_column(a):\n",
        "    # see Sec 4.1.2 in The Design of Rijndael\n",
        "    t = a[0] ^ a[1] ^ a[2] ^ a[3]\n",
        "    u = a[0]\n",
        "    a[0] ^= t ^ xtime(a[0] ^ a[1])\n",
        "    a[1] ^= t ^ xtime(a[1] ^ a[2])\n",
        "    a[2] ^= t ^ xtime(a[2] ^ a[3])\n",
        "    a[3] ^= t ^ xtime(a[3] ^ u)\n",
        "\n",
        "\n",
        "def mix_columns(s):\n",
        "    for i in range(4):\n",
        "        mix_single_column(s[i])\n",
        "\n",
        "\n",
        "def inv_mix_columns(s):\n",
        "    # see Sec 4.1.3 in The Design of Rijndael\n",
        "    for i in range(4):\n",
        "        u = xtime(xtime(s[i][0] ^ s[i][2]))\n",
        "        v = xtime(xtime(s[i][1] ^ s[i][3]))\n",
        "        s[i][0] ^= u\n",
        "        s[i][1] ^= v\n",
        "        s[i][2] ^= u\n",
        "        s[i][3] ^= v\n",
        "\n",
        "    mix_columns(s)\n",
        "\n",
        "\n",
        "def expand_key(master_key):\n",
        "    \"\"\"\n",
        "    Expands and returns a list of key matrices for the given master_key.\n",
        "    \"\"\"\n",
        "\n",
        "    # Round constants https://en.wikipedia.org/wiki/AES_key_schedule#Round_constants\n",
        "    r_con = (\n",
        "        0x00, 0x01, 0x02, 0x04, 0x08, 0x10, 0x20, 0x40,\n",
        "        0x80, 0x1B, 0x36, 0x6C, 0xD8, 0xAB, 0x4D, 0x9A,\n",
        "        0x2F, 0x5E, 0xBC, 0x63, 0xC6, 0x97, 0x35, 0x6A,\n",
        "        0xD4, 0xB3, 0x7D, 0xFA, 0xEF, 0xC5, 0x91, 0x39,\n",
        "    )\n",
        "\n",
        "    # Initialize round keys with raw key material.\n",
        "    key_columns = bytes2matrix(master_key)\n",
        "    iteration_size = len(master_key) // 4\n",
        "\n",
        "    # Each iteration has exactly as many columns as the key material.\n",
        "    i = 1\n",
        "    while len(key_columns) < (N_ROUNDS + 1) * 4:\n",
        "        # Copy previous word.\n",
        "        word = list(key_columns[-1])\n",
        "\n",
        "        # Perform schedule_core once every \"row\".\n",
        "        if len(key_columns) % iteration_size == 0:\n",
        "            # Circular shift.\n",
        "            word.append(word.pop(0))\n",
        "            # Map to S-BOX.\n",
        "            word = [s_box[b] for b in word]\n",
        "            # XOR with first byte of R-CON, since the others bytes of R-CON are 0.\n",
        "            word[0] ^= r_con[i]\n",
        "            i += 1\n",
        "        elif len(master_key) == 32 and len(key_columns) % iteration_size == 4:\n",
        "            # Run word through S-box in the fourth iteration when using a\n",
        "            # 256-bit key.\n",
        "            word = [s_box[b] for b in word]\n",
        "\n",
        "        # XOR with equivalent word from previous iteration.\n",
        "        word = bytes(i ^ j for i, j in zip(word, key_columns[-iteration_size]))\n",
        "        key_columns.append(word)\n",
        "\n",
        "    # Group key words in 4x4 byte matrices.\n",
        "    return [key_columns[4 * i: 4 * (i + 1)] for i in range(len(key_columns) // 4)]\n",
        "\n",
        "\n",
        "def decrypt(key, ciphertext):\n",
        "    round_keys = expand_key(\n",
        "        key)  # Remember to start from the last round key and work backwards through them when decrypting\n",
        "\n",
        "    # Convert ciphertext to state matrix\n",
        "    state = bytes2matrix(ciphertext)\n",
        "    # Initial add round key step\n",
        "    add_round_key(state, round_keys[10])\n",
        "    for i in range(N_ROUNDS - 1, 0, -1):\n",
        "        inv_shift_rows(state)\n",
        "        inv_sub_bytes(state)\n",
        "        add_round_key(state, round_keys[i])\n",
        "        inv_mix_columns(state)\n",
        "\n",
        "    # Run final round (skips the InvMixColumns step)\n",
        "    inv_shift_rows(state)\n",
        "    inv_sub_bytes(state)\n",
        "    add_round_key(state, round_keys[0])\n",
        "\n",
        "    # Convert state matrix to plaintext\n",
        "    plaintext = matrix2bytes(state)\n",
        "    return plaintext\n",
        "\n",
        "\n",
        "print(decrypt(key, ciphertext))\n",
        "#crypto{MYAES128}"
      ],
      "metadata": {
        "id": "2aZIRfZvSTyb"
      },
      "execution_count": null,
      "outputs": []
    },
    {
      "cell_type": "markdown",
      "source": [
        "\n",
        "\n",
        "---\n",
        "\n"
      ],
      "metadata": {
        "id": "suIFDld1Sf3r"
      }
    },
    {
      "cell_type": "markdown",
      "source": [
        "## ECB CBC WTF\n",
        "\n",
        "**-Solution:**\n",
        "\n",
        ". Using a CBC (Cipher Block Chaining) mode of operation. The encrypted message is split into three parts: the initialization vector (IV), block 1 (b1), and block 2 (b2).\n",
        "\n",
        " takes the first block (b1), XORs it with the decrypted input (d1) that you provide, and then XORs the result with the IV. This will give you the decrypted version of the second block (b2). Then takes the second block (b2), XORs it with the decrypted input (d2) that you provide, and then XORs the result with the decrypted version of the first block (d1 + b1). The final result is the decrypted message.\n",
        "\n",
        " **-Code:**"
      ],
      "metadata": {
        "id": "YSze43pOSgeT"
      }
    },
    {
      "cell_type": "code",
      "source": [
        "from pwn import xor\n",
        "enc = bytes.fromhex(\"\") # send the enccrypt flag here, im too lazy now huhu\n",
        "\n",
        "iv = enc[:16]\n",
        "b1 = enc[16:32]\n",
        "b2 = enc[32:]\n",
        "\n",
        "print(b1.hex())\n",
        "d1 = input()\n",
        "d1 = xor(bytes.fromhex(d1), iv)\n",
        "print(b2.hex())\n",
        "d2 = input()\n",
        "d2 = xor(bytes.fromhex(d2), b1)\n",
        "print(d1 + d2)\n",
        "#crypto{3cb_5uck5_4v01d_17_!!!!!}"
      ],
      "metadata": {
        "id": "lghVQ9cXSfky"
      },
      "execution_count": null,
      "outputs": []
    },
    {
      "cell_type": "markdown",
      "source": [
        "\n",
        "\n",
        "---\n",
        "\n"
      ],
      "metadata": {
        "id": "mWfcK0HrZWOm"
      }
    },
    {
      "cell_type": "markdown",
      "source": [
        "## ECB Oracle\n",
        "\n",
        "**-Solution:**\n",
        "\n",
        ". Padding Oracle Attack on an AES-encrypted message that is being sent to a server. The encrypted message is in ECB mode, meaning that identical plaintext blocks result in identical ciphertext blocks.\n",
        "\n",
        ". The attack proceeds by iteratively guessing the characters of the flag, starting from the leftmost character. For each guess, we construct a new plaintext by padding it with null bytes to a certain length (31 - i, where i is the current character position being guessed), and then appending the current guess for the character. Then sends this plaintext to the server and checks if the resulting ciphertext block is the same as the ciphertext block obtained by guessing the previous character. If it is, then the guess for the current character is correct and it is appended to the flag. If it is not, we move on to the next character position and repeats the process.\n",
        "\n",
        ". It is possible because the server does not perform any authentication on the encrypted message, and returns a response indicating whether the padding of the decrypted message is valid or not. By iteratively modifying the last byte of the plaintext message and observing the server response, we will be able to determine the value of each byte of the flag.\n",
        "\n",
        "**-Code:**"
      ],
      "metadata": {
        "id": "rcKhR-r9ijf9"
      }
    },
    {
      "cell_type": "code",
      "source": [
        "import requests\n",
        "\n",
        "from Crypto.Cipher import AES\n",
        "\n",
        "from Crypto.Util.Padding import pad, unpad\n",
        "\n",
        "  \n",
        "\n",
        "ciphertext = b\"177d36396d029f19708cef8d1c861bfd1f227170511203bbb211a703905f9e5128ae38bc1312435b814108836328262a\"\n",
        "\n",
        "  \n",
        "\n",
        "flag = b'crypto{'\n",
        "\n",
        "  \n",
        "\n",
        "def response(byte_string):\n",
        "\n",
        "    url = \"http://aes.cryptohack.org/ecb_oracle/encrypt/\"\n",
        "\n",
        "    url += byte_string.hex()\n",
        "\n",
        "    url += '/'\n",
        "\n",
        "    r = requests.get(url)\n",
        "\n",
        "    js = r.json()\n",
        "\n",
        "    return bytes.fromhex(js[\"ciphertext\"])\n",
        "\n",
        "  \n",
        "\n",
        "for i in range(7, 26):\n",
        "\n",
        "    byte_string = b\"\"\n",
        "\n",
        "    byte_string += b\"\\x00\" * (31-i)\n",
        "\n",
        "    print(byte_string)\n",
        "\n",
        "    res = response(byte_string)[:32]\n",
        "\n",
        "    byte_string += flag\n",
        "\n",
        "    for j in range(33, 128):\n",
        "\n",
        "        byte_string = byte_string[:31]\n",
        "\n",
        "        byte_string += j.to_bytes(1, byteorder=\"big\")\n",
        "\n",
        "\n",
        "        res2 = response(byte_string)[:32]\n",
        "\n",
        "        if res == res2:\n",
        "\n",
        "            flag += j.to_bytes(1, byteorder=\"big\")\n",
        "\n",
        "            print(flag)\n",
        "\n",
        "            break\n",
        "#b'crypto{p3n6u1n5_h473_3cb}'"
      ],
      "metadata": {
        "id": "fQnehqfYip-i"
      },
      "execution_count": null,
      "outputs": []
    },
    {
      "cell_type": "markdown",
      "source": [
        "\n",
        "\n",
        "---\n",
        "\n"
      ],
      "metadata": {
        "id": "b_kmwgpmiqq2"
      }
    },
    {
      "cell_type": "markdown",
      "source": [
        "## Flipping Cookie\n",
        "\n",
        "**-Solution:**\n",
        "\n",
        ". Exploiting a weakness in CBC (Cipher Block Chaining) mode encryption when the same IV is used for different messages. The vulnerability occurs when an attacker can modify the plaintext message and observe how the corresponding ciphertext changes. Specifically, if the attacker knows the IV and the plaintext of a message, they can manipulate the plaintext to affect the next block of ciphertext by XORing the next block of ciphertext with the XOR of the original plaintext, the target plaintext, and the IV.\n",
        "\n",
        ". In this code below, the `get_cookie()` function retrieves a cookie from a server, which consists of two 16-byte blocks. The `check_admin()` function takes an IV and the cookie as input and sends a request to the server to check if the decrypted message contains the substring \"admin=True\". The plaintext variable is set to the original plaintext message that was used to create the cookie, and the target variable is set to the desired message that should be decrypted.\n",
        "\n",
        ". The code then calculates a new IV by XORing the original IV, the plaintext, and the target message together. This is because the original IV was used to encrypt the original plaintext message, and now we want to encrypt the target message instead. The resulting IV is used in a call to `check_admin()` with the original cookie, and the resulting flag is printed if the message is decrypted to include \"admin=True\".\n",
        "\n",
        ". Overall, the code is performing a CBC bit flipping attack, which exploits the fact that CBC mode allows an attacker to modify the plaintext by modifying the ciphertext.\n",
        "\n",
        "**-Code:**"
      ],
      "metadata": {
        "id": "1uTXir9ZiO2M"
      }
    },
    {
      "cell_type": "code",
      "source": [
        "from urllib.request import urlopen\n",
        "import json\n",
        "\n",
        "url = 'https://aes.cryptohack.org/flipping_cookie/'\n",
        "\n",
        "\n",
        "# gets cookie bytes\n",
        "def get_cookie():\n",
        "    result = urlopen(url + 'get_cookie/')\n",
        "    data = json.loads(result.read())\n",
        "    b = bytes.fromhex(data['cookie'])\n",
        "    return (b[:16], b[16:])\n",
        "\n",
        "\n",
        "# call check_admin, returns parsed json result\n",
        "def check_admin(iv, cookie):\n",
        "    result = urlopen(url + 'check_admin/' + cookie.hex() + '/' + iv.hex() + '/')\n",
        "    return json.loads(result.read())\n",
        "\n",
        "\n",
        "(iv, cookie) = get_cookie()\n",
        "\n",
        "plaintext = b\"admin=False;expi\"\n",
        "target    = b\"admin=True;;expi\"\n",
        "\n",
        "new_iv = bytes([x ^ y ^ z for (x, y, z) in zip(iv, plaintext, target)])\n",
        "\n",
        "check = check_admin(new_iv, cookie)\n",
        "if (check['flag']):\n",
        "    print(check['flag'])\n",
        "else:\n",
        "    print(\"Flag not found\", check)\n",
        "    #crypto{4u7h3n71c4710n_15_3553n714l}"
      ],
      "metadata": {
        "id": "xAu45MMAiRqq"
      },
      "execution_count": null,
      "outputs": []
    },
    {
      "cell_type": "markdown",
      "source": [
        "\n",
        "\n",
        "---\n",
        "\n"
      ],
      "metadata": {
        "id": "FLyqW4JDiR6L"
      }
    },
    {
      "cell_type": "markdown",
      "source": [
        "## Lazy CBC\n",
        "\n",
        "**-Solution:**\n",
        "\n",
        ". Like above, we still exploit a weakness in CBC (Cipher Block Chaining) mode encryption when the same key is used to encrypt different messages. The vulnerability occurs when an attacker can control the first block of plaintext and observe the corresponding ciphertext. Specifically, if the attacker sets the first block of plaintext to all zeros, then the first block of ciphertext will be equal to E_K(0) (the encryption of the all-zero block), and the second block of ciphertext will be equal to E_K(K) (the encryption of the key).\n",
        "\n",
        ". In this code, the `hack()` function sends a request to a server to encrypt the all-zero block using CBC mode encryption with an unknown key. The function then extracts the ciphertext from the server response and modifies it to create a new ciphertext with the first block set to all zeros. The modified ciphertext is sent to the server, and the server returns an error message containing the decrypted plaintext.\n",
        "\n",
        ". Since the first block of plaintext was set to all zeros, the first block of the decrypted plaintext will be equal to D_K(0), which is equivalent to the encryption of the all-zero block using the key K. The second block of the decrypted plaintext will be equal to K. Therefore, the function extracts the key from the decrypted plaintext and sends a final request to the server to retrieve the flag.\n",
        "\n",
        ". Overall, the code is performing a CBC key-recovery attack, which exploits the fact that CBC mode encryption with a fixed key allows an attacker to recover the key if they can control the first block of plaintext.\n",
        "\n",
        "**-Code:**"
      ],
      "metadata": {
        "id": "IBYi1mtSZjf0"
      }
    },
    {
      "cell_type": "code",
      "source": [
        "import requests\n",
        "\n",
        "url_base = 'http://aes.cryptohack.org/lazy_cbc'\n",
        "\n",
        "BLOCK_SIZE = 16\n",
        "ZERO = b'\\0' * 16\n",
        "\n",
        "def hack():\n",
        "  response = requests.get(url=\"%s/encrypt/%s\" % (url_base, ZERO.hex())).json()\n",
        "\n",
        "  # This is E_K(K) since our plaintext is 0\n",
        "  ciphertext = bytes.fromhex(response['ciphertext'])\n",
        "\n",
        "  # This is 0 || E_K(K), which makes 0 be the ciphertext\n",
        "  # which is XOR'd with K after E_K(K) is decrypted.\n",
        "  ciphertext = ZERO + ciphertext\n",
        "  response = requests.get(url=\"%s/receive/%s\" % (url_base, ciphertext.hex())).json()\n",
        "\n",
        "  # Now, we can extract the decrypted output, which is D_K(0) || K, and pull out K.\n",
        "  plaintext = bytes.fromhex(response['error'][len('Invalid plaintext: '):])\n",
        "  key = plaintext[BLOCK_SIZE:] # K is the second block\n",
        "\n",
        "  response = requests.get(url=\"%s/get_flag/%s\" % (url_base, key.hex())).json()\n",
        "  return bytes.fromhex(response['plaintext']).decode()\n",
        "\n",
        "if __name__ == '__main__':\n",
        "  flag = hack()\n",
        "  print(flag)\n",
        "#crypto{50m3_p30pl3_d0n7_7h1nk_IV_15_1mp0r74n7_?}\n"
      ],
      "metadata": {
        "id": "Ik5NRMWHZiwj"
      },
      "execution_count": null,
      "outputs": []
    },
    {
      "cell_type": "markdown",
      "source": [
        "## Triple DES\n",
        "\n",
        "**-Solution:**\n",
        "\n",
        ". The hint is right in the title: Triple DES algorithm. \n",
        "\n",
        ". It takes two functions:\n",
        "\n",
        ".`encrypt` take 2 arguments, a key and a plain text message to encrypt. The function constructs a URL for the encryption endpoint of the web service, sends a GET request to that URL, and parses the JSON response to extract the encrypted ciphertext.\n",
        "\n",
        ".`encrypt_flag` takes a single argument, a key, and constructs a URL for the encryption of the flag using that key. The function sends a GET request to that URL, and again parses the JSON response to extract the encrypted ciphertext of the flag.\n",
        "\n",
        ". Then, the script initializes the key variable with a value of sixteen bytes consisting of eight zero bytes followed by eight one bytes. It then calls encrypt_flag with this key to obtain the encrypted flag. Finally, it calls encrypt with the same key and the encrypted flag as plaintext to obtain the final encrypted ciphertext. The ciphertext is printed to the console.\n",
        "\n",
        "**-Code:**"
      ],
      "metadata": {
        "id": "sW1maLv8ZXD1"
      }
    },
    {
      "cell_type": "code",
      "source": [
        "import requests\n",
        "from Crypto.Cipher import AES\n",
        "from Crypto.Util.Padding import pad, unpad\n",
        "from Crypto.Util.number import long_to_bytes, bytes_to_long\n",
        "\n",
        "def encrypt(key, plain):\n",
        "    url = \"http://aes.cryptohack.org/triple_des/encrypt/\"\n",
        "    url += key\n",
        "    url += \"/\"\n",
        "    url += plain.hex()\n",
        "    url += \"/\"\n",
        "    r = requests.get(url).json()\n",
        "    return bytes.fromhex(r[\"ciphertext\"])\n",
        "\n",
        "def encrypt_flag(key):\n",
        "    url = \"http://aes.cryptohack.org/triple_des/encrypt_flag/\"\n",
        "    r = requests.get(url + key + '/').json()\n",
        "    return bytes.fromhex(r[\"ciphertext\"])\n",
        "\n",
        "key = b'\\x00'*8 + b'\\xff'*8\n",
        "flag = encrypt_flag(key.hex())\n",
        "cipher = encrypt(key.hex(), flag)\n",
        "print(cipher)\n",
        "#b'crypto{n0t_4ll_k3ys_4r3_g00d_k3ys}\\x06\\x06\\x06\\x06\\x06\\x06'"
      ],
      "metadata": {
        "id": "8iO48rmcZZH7"
      },
      "execution_count": null,
      "outputs": []
    }
  ]
}