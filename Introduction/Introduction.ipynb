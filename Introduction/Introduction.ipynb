{
  "nbformat": 4,
  "nbformat_minor": 0,
  "metadata": {
    "colab": {
      "provenance": []
    },
    "kernelspec": {
      "name": "python3",
      "display_name": "Python 3"
    },
    "language_info": {
      "name": "python"
    }
  },
  "cells": [
    {
      "cell_type": "markdown",
      "source": [
        "## Finding Flags\n",
        "\n",
        "**-Solution:**\n",
        "\n",
        ". Just submit the below flag"
      ],
      "metadata": {
        "id": "dpAvZ9M5Gkq0"
      }
    },
    {
      "cell_type": "code",
      "source": [
        "#crypto{y0ur_f1rst_fl4g}"
      ],
      "metadata": {
        "id": "Ir0a0iVjGlUc"
      },
      "execution_count": null,
      "outputs": []
    },
    {
      "cell_type": "markdown",
      "source": [
        "\n",
        "\n",
        "---\n",
        "\n"
      ],
      "metadata": {
        "id": "DJ2NYfCiGj1T"
      }
    },
    {
      "cell_type": "markdown",
      "source": [
        "## Great Snakes\n",
        "\n",
        "**- Solution:**\n",
        "\n",
        ". Just download the provided `great_snakes.py` file and run.\n",
        "\n",
        "**-Code:**"
      ],
      "metadata": {
        "id": "WNdVYNllF03s"
      }
    },
    {
      "cell_type": "code",
      "execution_count": null,
      "metadata": {
        "id": "UbsU9JotFtFY"
      },
      "outputs": [],
      "source": [
        "import sys\n",
        "# import this\n",
        "\n",
        "if sys.version_info.major == 2:\n",
        "    print(\"You are running Python 2, which is no longer supported. Please update to Python 3.\")\n",
        "\n",
        "ords = [81, 64, 75, 66, 70, 93, 73, 72, 1, 92, 109, 2, 84, 109, 66, 75, 70, 90, 2, 92, 79]\n",
        "\n",
        "print(\"Here is your flag:\")\n",
        "print(\"\".join(chr(o ^ 0x32) for o in ords))\n",
        "#crypto{z3n_0f_pyth0n}"
      ]
    },
    {
      "cell_type": "markdown",
      "source": [
        "\n",
        "\n",
        "---\n",
        "\n"
      ],
      "metadata": {
        "id": "B8_X-oBDF1Mh"
      }
    },
    {
      "cell_type": "markdown",
      "source": [
        "## Network Attack\n",
        "\n",
        "**-Solution:**\n",
        "\n",
        ". Download `telnetlib_example.py` and change \"clothes\" in line 31 to \"flag\"\n",
        "\n",
        "**-Code:**"
      ],
      "metadata": {
        "id": "TDlAlFrdF1-7"
      }
    },
    {
      "cell_type": "code",
      "source": [
        "import telnetlib\n",
        "import json\n",
        "\n",
        "HOST = \"socket.cryptohack.org\"\n",
        "PORT = 11112\n",
        "\n",
        "tn = telnetlib.Telnet(HOST, PORT)\n",
        "\n",
        "\n",
        "def readline():\n",
        "    return tn.read_until(b\"\\n\")\n",
        "\n",
        "def json_recv():\n",
        "    line = readline()\n",
        "    return json.loads(line.decode())\n",
        "\n",
        "def json_send(hsh):\n",
        "    request = json.dumps(hsh).encode()\n",
        "    tn.write(request)\n",
        "\n",
        "\n",
        "print(readline())\n",
        "print(readline())\n",
        "print(readline())\n",
        "print(readline())\n",
        "\n",
        "\n",
        "request = {\n",
        "    \"buy\": \"clothes\" #change this line\n",
        "}\n",
        "json_send(request)\n",
        "\n",
        "response = json_recv()\n",
        "\n",
        "print(response)\n",
        "#'flag': 'crypto{sh0pp1ng_f0r_fl4g5}'"
      ],
      "metadata": {
        "id": "SFkL6vYoF2bj"
      },
      "execution_count": null,
      "outputs": []
    }
  ]
}